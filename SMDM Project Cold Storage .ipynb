{
 "cells": [
  {
   "cell_type": "code",
   "execution_count": 14,
   "id": "fb899ac9",
   "metadata": {},
   "outputs": [
    {
     "data": {
      "text/plain": [
       "(365, 4)"
      ]
     },
     "execution_count": 14,
     "metadata": {},
     "output_type": "execute_result"
    }
   ],
   "source": [
    "import pandas as pd\n",
    "import numpy as np\n",
    "from scipy.stats import norm\n",
    "df = pd.read_csv(\"C:\\\\Users\\\\srivi\\\\Downloads\\\\Cold_Storage_Temp_Data_-1.csv\")\n",
    "df.shape"
   ]
  },
  {
   "cell_type": "code",
   "execution_count": 39,
   "id": "2d3a1fe0",
   "metadata": {},
   "outputs": [
    {
     "name": "stdout",
     "output_type": "stream",
     "text": [
      "The Mean cold Storage temperature for Summer season is 3.1475\n",
      "The Mean cold Storage temperature for Winter season is 2.776422764227643\n",
      "The Mean cold storage temperature for Rainy Season is 3.0877049180327876\n"
     ]
    }
   ],
   "source": [
    "#Problem 1\n",
    "#Question 1\n",
    "summer_avg = df[df['Season'] == 'Summer']['Temperature'].mean()\n",
    "print('The Mean cold Storage temperature for Summer season is',summer_avg)\n",
    "winter_avg = df[df['Season'] == 'Winter']['Temperature'].mean()\n",
    "print('The Mean cold Storage temperature for Winter season is',winter_avg)\n",
    "rainy_avg=df[df['Season'] == 'Rainy']['Temperature'].mean()\n",
    "print('The Mean cold storage temperature for Rainy Season is',rainy_avg)"
   ]
  },
  {
   "cell_type": "code",
   "execution_count": 41,
   "id": "e2f41571",
   "metadata": {},
   "outputs": [
    {
     "name": "stdout",
     "output_type": "stream",
     "text": [
      "The Overall Mean for the full year is 3.0024657534246546\n"
     ]
    }
   ],
   "source": [
    "#Question 2\n",
    "avg_temp = df['Temperature'].mean()\n",
    "print('The Overall Mean for the full year is',avg_temp)"
   ]
  },
  {
   "cell_type": "code",
   "execution_count": 42,
   "id": "5d97ea5c",
   "metadata": {},
   "outputs": [
    {
     "name": "stdout",
     "output_type": "stream",
     "text": [
      "The Overall Standard Deviation for the full year is 0.4658319416510761\n"
     ]
    }
   ],
   "source": [
    "#Question 3\n",
    "std_dev = df['Temperature'].std()\n",
    "print(\"The Overall Standard Deviation for the full year is\",std_dev)"
   ]
  },
  {
   "cell_type": "code",
   "execution_count": 58,
   "id": "5f1e17c8",
   "metadata": {},
   "outputs": [
    {
     "name": "stdout",
     "output_type": "stream",
     "text": [
      "The probability of temperature having fallen below 2º C is  0.015699064791364483\n"
     ]
    }
   ],
   "source": [
    "#Question 4\n",
    "stand_value = (2-avg_temp)/std_dev\n",
    "prob = norm.cdf(stand_value)\n",
    "print(\"The probability of temperature having fallen below 2º C is \",prob)"
   ]
  },
  {
   "cell_type": "code",
   "execution_count": 57,
   "id": "ce7ee793",
   "metadata": {},
   "outputs": [
    {
     "name": "stdout",
     "output_type": "stream",
     "text": [
      "The probability of temperature having gone above 4º C is  0.016120748141275842\n"
     ]
    }
   ],
   "source": [
    "#Question 5\n",
    "stand_value = (4-avg_temp)/std_dev\n",
    "prob4 = norm.cdf(stand_value)\n",
    "prob4 = 1 - prob4\n",
    "print(\"The probability of temperature having gone above 4º C is \",prob4)\n"
   ]
  },
  {
   "cell_type": "code",
   "execution_count": 59,
   "id": "17814388",
   "metadata": {},
   "outputs": [
    {
     "name": "stdout",
     "output_type": "stream",
     "text": [
      "The Probablity 0.03181981293264033\n",
      "The penalty for the AMC Company is 10%\n"
     ]
    }
   ],
   "source": [
    "#Question 6\n",
    "penalty = prob+prob4\n",
    "print(\"The Probablity\",penalty)\n",
    "print('The penalty for the AMC Company is 10%')"
   ]
  },
  {
   "cell_type": "code",
   "execution_count": 101,
   "id": "f2249cc8",
   "metadata": {},
   "outputs": [
    {
     "data": {
      "text/html": [
       "<div>\n",
       "<style scoped>\n",
       "    .dataframe tbody tr th:only-of-type {\n",
       "        vertical-align: middle;\n",
       "    }\n",
       "\n",
       "    .dataframe tbody tr th {\n",
       "        vertical-align: top;\n",
       "    }\n",
       "\n",
       "    .dataframe thead th {\n",
       "        text-align: right;\n",
       "    }\n",
       "</style>\n",
       "<table border=\"1\" class=\"dataframe\">\n",
       "  <thead>\n",
       "    <tr style=\"text-align: right;\">\n",
       "      <th></th>\n",
       "      <th>Date</th>\n",
       "      <th>Temperature</th>\n",
       "    </tr>\n",
       "  </thead>\n",
       "  <tbody>\n",
       "    <tr>\n",
       "      <th>count</th>\n",
       "      <td>35.000000</td>\n",
       "      <td>35.000000</td>\n",
       "    </tr>\n",
       "    <tr>\n",
       "      <th>mean</th>\n",
       "      <td>14.400000</td>\n",
       "      <td>3.974286</td>\n",
       "    </tr>\n",
       "    <tr>\n",
       "      <th>std</th>\n",
       "      <td>7.389181</td>\n",
       "      <td>0.159674</td>\n",
       "    </tr>\n",
       "    <tr>\n",
       "      <th>min</th>\n",
       "      <td>1.000000</td>\n",
       "      <td>3.800000</td>\n",
       "    </tr>\n",
       "    <tr>\n",
       "      <th>25%</th>\n",
       "      <td>9.500000</td>\n",
       "      <td>3.900000</td>\n",
       "    </tr>\n",
       "    <tr>\n",
       "      <th>50%</th>\n",
       "      <td>14.000000</td>\n",
       "      <td>3.900000</td>\n",
       "    </tr>\n",
       "    <tr>\n",
       "      <th>75%</th>\n",
       "      <td>19.500000</td>\n",
       "      <td>4.100000</td>\n",
       "    </tr>\n",
       "    <tr>\n",
       "      <th>max</th>\n",
       "      <td>28.000000</td>\n",
       "      <td>4.600000</td>\n",
       "    </tr>\n",
       "  </tbody>\n",
       "</table>\n",
       "</div>"
      ],
      "text/plain": [
       "            Date   Temperature \n",
       "count  35.000000      35.000000\n",
       "mean   14.400000       3.974286\n",
       "std     7.389181       0.159674\n",
       "min     1.000000       3.800000\n",
       "25%     9.500000       3.900000\n",
       "50%    14.000000       3.900000\n",
       "75%    19.500000       4.100000\n",
       "max    28.000000       4.600000"
      ]
     },
     "execution_count": 101,
     "metadata": {},
     "output_type": "execute_result"
    }
   ],
   "source": [
    "#Problem 2\n",
    "import pandas as pd\n",
    "import math\n",
    "import scipy.stats as stats\n",
    "df1 = pd.read_csv(\"C:\\\\Users\\\\srivi\\\\Downloads\\\\Cold_Storage_Mar2018_.csv\")\n",
    "df1.shape\n",
    "df1.describe()"
   ]
  },
  {
   "cell_type": "code",
   "execution_count": 120,
   "id": "58f836ee",
   "metadata": {},
   "outputs": [
    {
     "name": "stdout",
     "output_type": "stream",
     "text": [
      "The P value is 0.002958282984017009\n"
     ]
    }
   ],
   "source": [
    "mean=3.974286\n",
    "std_dev=0.159674\n",
    "xbar=3.9\n",
    "n=35\n",
    "z=(xbar-mean)/(std_dev/math.sqrt(n))\n",
    "z\n",
    "p=stats.norm.cdf(z)\n",
    "print(\"The P value is\",p)"
   ]
  },
  {
   "cell_type": "code",
   "execution_count": null,
   "id": "2455ea7c",
   "metadata": {},
   "outputs": [],
   "source": []
  }
 ],
 "metadata": {
  "kernelspec": {
   "display_name": "Python 3",
   "language": "python",
   "name": "python3"
  },
  "language_info": {
   "codemirror_mode": {
    "name": "ipython",
    "version": 3
   },
   "file_extension": ".py",
   "mimetype": "text/x-python",
   "name": "python",
   "nbconvert_exporter": "python",
   "pygments_lexer": "ipython3",
   "version": "3.8.8"
  }
 },
 "nbformat": 4,
 "nbformat_minor": 5
}
